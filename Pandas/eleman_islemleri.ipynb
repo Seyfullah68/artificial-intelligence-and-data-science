{
 "cells": [
  {
   "cell_type": "markdown",
   "id": "9bbfa7b6-871f-4eac-83f0-af44e5347f50",
   "metadata": {},
   "source": [
    "# eleman islemleri"
   ]
  },
  {
   "cell_type": "code",
   "execution_count": 4,
   "id": "73a45990-30c9-4e68-ad90-827f80ac52e4",
   "metadata": {
    "tags": []
   },
   "outputs": [],
   "source": [
    "import numpy as np\n",
    "import pandas as pd"
   ]
  },
  {
   "cell_type": "code",
   "execution_count": 5,
   "id": "60377dd3-6c41-4212-87d3-6636ae564769",
   "metadata": {
    "tags": []
   },
   "outputs": [
    {
     "data": {
      "text/plain": [
       "0    55\n",
       "1     7\n",
       "2    12\n",
       "3    34\n",
       "4    68\n",
       "dtype: int32"
      ]
     },
     "execution_count": 5,
     "metadata": {},
     "output_type": "execute_result"
    }
   ],
   "source": [
    "dizi=np.array([55,7,12,34,68])\n",
    "seri=pd.Series(dizi)\n",
    "seri"
   ]
  },
  {
   "cell_type": "code",
   "execution_count": 6,
   "id": "da2985f6-4e22-494c-96db-cb681f3cc8bc",
   "metadata": {
    "tags": []
   },
   "outputs": [
    {
     "data": {
      "text/plain": [
       "0    55\n",
       "1     7\n",
       "dtype: int32"
      ]
     },
     "execution_count": 6,
     "metadata": {},
     "output_type": "execute_result"
    }
   ],
   "source": [
    "seri[0:2]"
   ]
  },
  {
   "cell_type": "code",
   "execution_count": 8,
   "id": "4c050c84-5878-4826-bb90-f99c1a4f20c7",
   "metadata": {
    "tags": []
   },
   "outputs": [
    {
     "data": {
      "text/plain": [
       "a       11\n",
       "ee     344\n",
       "qw      56\n",
       "zx       4\n",
       "s        1\n",
       "xxx     23\n",
       "dtype: int64"
      ]
     },
     "execution_count": 8,
     "metadata": {},
     "output_type": "execute_result"
    }
   ],
   "source": [
    "rr=pd.Series([11,344,56,4,1,23], index=[\"a\",\"ee\",\"qw\",\"zx\",\"s\",\"xxx\"])\n",
    "rr"
   ]
  },
  {
   "cell_type": "code",
   "execution_count": 9,
   "id": "ec601c3f-0669-458e-85d0-cfab530e948b",
   "metadata": {
    "tags": []
   },
   "outputs": [
    {
     "data": {
      "text/plain": [
       "Index(['a', 'ee', 'qw', 'zx', 's', 'xxx'], dtype='object')"
      ]
     },
     "execution_count": 9,
     "metadata": {},
     "output_type": "execute_result"
    }
   ],
   "source": [
    "rr.index"
   ]
  },
  {
   "cell_type": "code",
   "execution_count": 10,
   "id": "f9d0c972-b0ea-4317-8302-7de1c9ad144a",
   "metadata": {
    "tags": []
   },
   "outputs": [
    {
     "data": {
      "text/plain": [
       "<bound method Series.keys of a       11\n",
       "ee     344\n",
       "qw      56\n",
       "zx       4\n",
       "s        1\n",
       "xxx     23\n",
       "dtype: int64>"
      ]
     },
     "execution_count": 10,
     "metadata": {},
     "output_type": "execute_result"
    }
   ],
   "source": [
    "rr.keys"
   ]
  },
  {
   "cell_type": "code",
   "execution_count": 13,
   "id": "573fcab9-4cd4-4807-9fb8-06698cfe9e75",
   "metadata": {
    "tags": []
   },
   "outputs": [
    {
     "data": {
      "text/plain": [
       "[('a', 11), ('ee', 344), ('qw', 56), ('zx', 4), ('s', 1), ('xxx', 23)]"
      ]
     },
     "execution_count": 13,
     "metadata": {},
     "output_type": "execute_result"
    }
   ],
   "source": [
    "list(rr.items())"
   ]
  },
  {
   "cell_type": "code",
   "execution_count": 15,
   "id": "b257e30b-5404-4269-be72-a83410f3874b",
   "metadata": {
    "tags": []
   },
   "outputs": [
    {
     "data": {
      "text/plain": [
       "<bound method Series.items of a       11\n",
       "ee     344\n",
       "qw      56\n",
       "zx       4\n",
       "s        1\n",
       "xxx     23\n",
       "dtype: int64>"
      ]
     },
     "execution_count": 15,
     "metadata": {},
     "output_type": "execute_result"
    }
   ],
   "source": [
    "rr.items"
   ]
  },
  {
   "cell_type": "code",
   "execution_count": 17,
   "id": "832bb830-568d-4f5d-a729-eac592f8aebb",
   "metadata": {
    "tags": []
   },
   "outputs": [
    {
     "data": {
      "text/plain": [
       "array([ 11, 344,  56,   4,   1,  23], dtype=int64)"
      ]
     },
     "execution_count": 17,
     "metadata": {},
     "output_type": "execute_result"
    }
   ],
   "source": [
    "rr.values"
   ]
  },
  {
   "cell_type": "code",
   "execution_count": 21,
   "id": "d66d27aa-db5d-432a-89de-29e8c70441eb",
   "metadata": {
    "tags": []
   },
   "outputs": [],
   "source": [
    "# eleman sorgulama"
   ]
  },
  {
   "cell_type": "code",
   "execution_count": 22,
   "id": "a46d5bcf-717b-49e3-a64b-d2fe6e4eb852",
   "metadata": {
    "tags": []
   },
   "outputs": [
    {
     "data": {
      "text/plain": [
       "True"
      ]
     },
     "execution_count": 22,
     "metadata": {},
     "output_type": "execute_result"
    }
   ],
   "source": [
    "\"xxx\" in rr"
   ]
  },
  {
   "cell_type": "code",
   "execution_count": 19,
   "id": "76623e8c-951c-4c78-8043-bdeb10efd9f3",
   "metadata": {
    "tags": []
   },
   "outputs": [
    {
     "data": {
      "text/plain": [
       "False"
      ]
     },
     "execution_count": 19,
     "metadata": {},
     "output_type": "execute_result"
    }
   ],
   "source": [
    "\"q\" in rr"
   ]
  },
  {
   "cell_type": "code",
   "execution_count": 23,
   "id": "f0b8b52c-2425-43f3-a48e-719d12af44ec",
   "metadata": {
    "tags": []
   },
   "outputs": [
    {
     "data": {
      "text/plain": [
       "23"
      ]
     },
     "execution_count": 23,
     "metadata": {},
     "output_type": "execute_result"
    }
   ],
   "source": [
    "rr[\"xxx\"]"
   ]
  },
  {
   "cell_type": "code",
   "execution_count": 24,
   "id": "61711999-e540-4a93-a356-8236208b639f",
   "metadata": {
    "tags": []
   },
   "outputs": [],
   "source": [
    "# fancy ile islem"
   ]
  },
  {
   "cell_type": "code",
   "execution_count": 27,
   "id": "64c5456a-4ef6-4eb9-90a0-0bff85c4e4a0",
   "metadata": {
    "tags": []
   },
   "outputs": [
    {
     "data": {
      "text/plain": [
       "zx      4\n",
       "s       1\n",
       "xxx    23\n",
       "dtype: int64"
      ]
     },
     "execution_count": 27,
     "metadata": {},
     "output_type": "execute_result"
    }
   ],
   "source": [
    "rr[\"zx\":\"xxx\"]"
   ]
  },
  {
   "cell_type": "code",
   "execution_count": 28,
   "id": "f5fe0e40-7835-4c47-b019-8c912dea635e",
   "metadata": {
    "tags": []
   },
   "outputs": [
    {
     "data": {
      "text/plain": [
       "zx      4\n",
       "xxx    23\n",
       "dtype: int64"
      ]
     },
     "execution_count": 28,
     "metadata": {},
     "output_type": "execute_result"
    }
   ],
   "source": [
    "rr[[\"zx\",\"xxx\"]]"
   ]
  },
  {
   "cell_type": "code",
   "execution_count": 30,
   "id": "b0a806cc-0adf-4112-ac4a-396d23ac83e3",
   "metadata": {
    "tags": []
   },
   "outputs": [],
   "source": [
    "rr[\"s\"]=100"
   ]
  },
  {
   "cell_type": "code",
   "execution_count": 31,
   "id": "5c22ee77-1191-4a5d-9269-bd7fb98bd43d",
   "metadata": {
    "tags": []
   },
   "outputs": [
    {
     "data": {
      "text/plain": [
       "100"
      ]
     },
     "execution_count": 31,
     "metadata": {},
     "output_type": "execute_result"
    }
   ],
   "source": [
    "rr[\"s\"]"
   ]
  }
 ],
 "metadata": {
  "kernelspec": {
   "display_name": "Python 3 (ipykernel)",
   "language": "python",
   "name": "python3"
  },
  "language_info": {
   "codemirror_mode": {
    "name": "ipython",
    "version": 3
   },
   "file_extension": ".py",
   "mimetype": "text/x-python",
   "name": "python",
   "nbconvert_exporter": "python",
   "pygments_lexer": "ipython3",
   "version": "3.11.5"
  }
 },
 "nbformat": 4,
 "nbformat_minor": 5
}
