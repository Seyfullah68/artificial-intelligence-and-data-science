{
 "cells": [
  {
   "cell_type": "code",
   "execution_count": 1,
   "id": "3c1fe847-2af5-4ba7-a65e-19b3c49ee7c0",
   "metadata": {
    "tags": []
   },
   "outputs": [],
   "source": [
    "import pandas as pd"
   ]
  },
  {
   "cell_type": "code",
   "execution_count": 2,
   "id": "9c721d85-7987-4239-9bc4-0f4548088f28",
   "metadata": {
    "tags": []
   },
   "outputs": [
    {
     "data": {
      "text/plain": [
       "0    88\n",
       "1     7\n",
       "2    11\n",
       "3    40\n",
       "dtype: int64"
      ]
     },
     "execution_count": 2,
     "metadata": {},
     "output_type": "execute_result"
    }
   ],
   "source": [
    "pd.Series([88,7,11,40])"
   ]
  },
  {
   "cell_type": "code",
   "execution_count": 4,
   "id": "6153cf70-7857-43d5-b316-de7e2ebc2a7c",
   "metadata": {
    "tags": []
   },
   "outputs": [
    {
     "data": {
      "text/plain": [
       "0     77\n",
       "1      4\n",
       "2      0\n",
       "3    987\n",
       "dtype: int64"
      ]
     },
     "execution_count": 4,
     "metadata": {},
     "output_type": "execute_result"
    }
   ],
   "source": [
    "s=pd.Series([77,4,0,987])\n",
    "s"
   ]
  },
  {
   "cell_type": "code",
   "execution_count": 5,
   "id": "de11f22d-20d5-4e4c-91f7-2917b34f3fc1",
   "metadata": {
    "tags": []
   },
   "outputs": [
    {
     "data": {
      "text/plain": [
       "pandas.core.series.Series"
      ]
     },
     "execution_count": 5,
     "metadata": {},
     "output_type": "execute_result"
    }
   ],
   "source": [
    "type(s)"
   ]
  },
  {
   "cell_type": "code",
   "execution_count": 7,
   "id": "3201c0ff-003d-41fa-90aa-c7bba2546de0",
   "metadata": {
    "tags": []
   },
   "outputs": [
    {
     "data": {
      "text/plain": [
       "[RangeIndex(start=0, stop=4, step=1)]"
      ]
     },
     "execution_count": 7,
     "metadata": {},
     "output_type": "execute_result"
    }
   ],
   "source": [
    "s.axes"
   ]
  },
  {
   "cell_type": "code",
   "execution_count": 9,
   "id": "8db7a351-aac7-44c1-971e-6a8c715de045",
   "metadata": {
    "tags": []
   },
   "outputs": [
    {
     "data": {
      "text/plain": [
       "dtype('int64')"
      ]
     },
     "execution_count": 9,
     "metadata": {},
     "output_type": "execute_result"
    }
   ],
   "source": [
    "s.dtype"
   ]
  },
  {
   "cell_type": "code",
   "execution_count": 10,
   "id": "3b4446bc-9fe6-4c35-b9b2-bd470b0d838e",
   "metadata": {
    "tags": []
   },
   "outputs": [
    {
     "data": {
      "text/plain": [
       "1"
      ]
     },
     "execution_count": 10,
     "metadata": {},
     "output_type": "execute_result"
    }
   ],
   "source": [
    "s.ndim"
   ]
  },
  {
   "cell_type": "code",
   "execution_count": 11,
   "id": "1e2118dc-663e-423d-b20f-43d54a29faca",
   "metadata": {
    "tags": []
   },
   "outputs": [
    {
     "data": {
      "text/plain": [
       "array([ 77,   4,   0, 987], dtype=int64)"
      ]
     },
     "execution_count": 11,
     "metadata": {},
     "output_type": "execute_result"
    }
   ],
   "source": [
    "s.values"
   ]
  },
  {
   "cell_type": "code",
   "execution_count": 12,
   "id": "736843a5-853f-4326-b605-e41b1c8e1fe7",
   "metadata": {
    "tags": []
   },
   "outputs": [
    {
     "data": {
      "text/plain": [
       "0    77\n",
       "1     4\n",
       "dtype: int64"
      ]
     },
     "execution_count": 12,
     "metadata": {},
     "output_type": "execute_result"
    }
   ],
   "source": [
    "s.head(2)\n",
    "#degerleri bastan gosterir"
   ]
  },
  {
   "cell_type": "code",
   "execution_count": 13,
   "id": "73e7f640-cb7d-4def-b925-b91fb13bcbe2",
   "metadata": {
    "tags": []
   },
   "outputs": [
    {
     "data": {
      "text/plain": [
       "2      0\n",
       "3    987\n",
       "dtype: int64"
      ]
     },
     "execution_count": 13,
     "metadata": {},
     "output_type": "execute_result"
    }
   ],
   "source": [
    "s.tail(2)\n",
    "#degerleri sondan gosterir"
   ]
  },
  {
   "cell_type": "code",
   "execution_count": 14,
   "id": "52b96e17-b30b-4d9c-9eca-14838ea76010",
   "metadata": {
    "tags": []
   },
   "outputs": [],
   "source": [
    "# index isimlendirme"
   ]
  },
  {
   "cell_type": "code",
   "execution_count": 16,
   "id": "b2cffdf7-c1c5-47c9-8026-fab15f4c6a4f",
   "metadata": {
    "tags": []
   },
   "outputs": [
    {
     "data": {
      "text/plain": [
       "5    666\n",
       "6      7\n",
       "7      0\n",
       "1     44\n",
       "dtype: int64"
      ]
     },
     "execution_count": 16,
     "metadata": {},
     "output_type": "execute_result"
    }
   ],
   "source": [
    "p=pd.Series([666,7,0,44], index=[5,6,7,1])\n",
    "p"
   ]
  },
  {
   "cell_type": "code",
   "execution_count": 17,
   "id": "f91c8de6-c1fe-4962-bfda-403eb6119afe",
   "metadata": {
    "tags": []
   },
   "outputs": [
    {
     "data": {
      "text/plain": [
       "a    44\n",
       "b    55\n",
       "c    66\n",
       "d    77\n",
       "dtype: int64"
      ]
     },
     "execution_count": 17,
     "metadata": {},
     "output_type": "execute_result"
    }
   ],
   "source": [
    "x=pd.Series([44,55,66,77],index=[\"a\",\"b\",\"c\",\"d\"])\n",
    "x"
   ]
  },
  {
   "cell_type": "code",
   "execution_count": 18,
   "id": "5651000c-e0ee-4230-a9c3-b71a85442d8e",
   "metadata": {
    "tags": []
   },
   "outputs": [
    {
     "data": {
      "text/plain": [
       "66"
      ]
     },
     "execution_count": 18,
     "metadata": {},
     "output_type": "execute_result"
    }
   ],
   "source": [
    "x[\"c\"]"
   ]
  },
  {
   "cell_type": "code",
   "execution_count": 19,
   "id": "9eb15f8a-49f9-4b2a-9b98-f183c22def95",
   "metadata": {
    "tags": []
   },
   "outputs": [
    {
     "data": {
      "text/plain": [
       "b    55\n",
       "c    66\n",
       "d    77\n",
       "dtype: int64"
      ]
     },
     "execution_count": 19,
     "metadata": {},
     "output_type": "execute_result"
    }
   ],
   "source": [
    "x[\"b\":\"d\"]"
   ]
  },
  {
   "cell_type": "code",
   "execution_count": 20,
   "id": "dd422aee-54d4-41c8-97df-be37a9a5f9d0",
   "metadata": {
    "tags": []
   },
   "outputs": [],
   "source": [
    "#sozluk ile tanimlama"
   ]
  },
  {
   "cell_type": "code",
   "execution_count": 21,
   "id": "db9e3a02-2333-4452-9d02-de5e36034a4a",
   "metadata": {
    "tags": []
   },
   "outputs": [
    {
     "data": {
      "text/plain": [
       "{'aa': 11, 'bb': 4, 'cc': 98}"
      ]
     },
     "execution_count": 21,
     "metadata": {},
     "output_type": "execute_result"
    }
   ],
   "source": [
    "sozluk={\"aa\":11,\"bb\":4,\"cc\":98}\n",
    "sozluk"
   ]
  },
  {
   "cell_type": "code",
   "execution_count": 23,
   "id": "4192f974-f3ac-4823-af44-483ce153d42c",
   "metadata": {
    "tags": []
   },
   "outputs": [
    {
     "data": {
      "text/plain": [
       "11"
      ]
     },
     "execution_count": 23,
     "metadata": {},
     "output_type": "execute_result"
    }
   ],
   "source": [
    "sozluk[\"aa\"]"
   ]
  },
  {
   "cell_type": "code",
   "execution_count": 24,
   "id": "60b7f7a3-e85c-4723-8275-bcf8d9dd8aa1",
   "metadata": {
    "tags": []
   },
   "outputs": [
    {
     "data": {
      "text/plain": [
       "aa    11\n",
       "bb     4\n",
       "cc    98\n",
       "dtype: int64"
      ]
     },
     "execution_count": 24,
     "metadata": {},
     "output_type": "execute_result"
    }
   ],
   "source": [
    "sozlukcuk=pd.Series(sozluk)\n",
    "sozlukcuk"
   ]
  },
  {
   "cell_type": "code",
   "execution_count": 25,
   "id": "9403825b-7e97-4c43-babf-4f2d1574e5ab",
   "metadata": {
    "tags": []
   },
   "outputs": [],
   "source": [
    "#iki seriyi birlestirerek seri olusturma"
   ]
  },
  {
   "cell_type": "code",
   "execution_count": 28,
   "id": "d5917240-1eac-4de3-8d93-902045a732fc",
   "metadata": {
    "tags": []
   },
   "outputs": [
    {
     "data": {
      "text/plain": [
       "a     44\n",
       "b     55\n",
       "c     66\n",
       "d     77\n",
       "aa    11\n",
       "bb     4\n",
       "cc    98\n",
       "dtype: int64"
      ]
     },
     "execution_count": 28,
     "metadata": {},
     "output_type": "execute_result"
    }
   ],
   "source": [
    "pd.concat([x,sozlukcuk])"
   ]
  },
  {
   "cell_type": "code",
   "execution_count": null,
   "id": "7c6bb9e7-e25e-4da1-a902-89204a7c7476",
   "metadata": {},
   "outputs": [],
   "source": []
  }
 ],
 "metadata": {
  "kernelspec": {
   "display_name": "Python 3 (ipykernel)",
   "language": "python",
   "name": "python3"
  },
  "language_info": {
   "codemirror_mode": {
    "name": "ipython",
    "version": 3
   },
   "file_extension": ".py",
   "mimetype": "text/x-python",
   "name": "python",
   "nbconvert_exporter": "python",
   "pygments_lexer": "ipython3",
   "version": "3.11.5"
  }
 },
 "nbformat": 4,
 "nbformat_minor": 5
}
