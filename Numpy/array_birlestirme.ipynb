{
 "cells": [
  {
   "cell_type": "markdown",
   "id": "b7c60de1-69de-4a77-b0b0-a867d108c884",
   "metadata": {},
   "source": [
    "# array birlestirme(concatenation)"
   ]
  },
  {
   "cell_type": "code",
   "execution_count": 1,
   "id": "e5671bff-3827-4f43-b58a-0b114afb4027",
   "metadata": {
    "tags": []
   },
   "outputs": [],
   "source": [
    "import numpy as np"
   ]
  },
  {
   "cell_type": "code",
   "execution_count": 2,
   "id": "109e0f48-3ca6-4323-9283-56557f9eae30",
   "metadata": {
    "tags": []
   },
   "outputs": [],
   "source": [
    "a = np.array([1,2,3])"
   ]
  },
  {
   "cell_type": "code",
   "execution_count": 3,
   "id": "ef8c8c2f-5d52-4dad-92b7-9fdacdad4ded",
   "metadata": {
    "tags": []
   },
   "outputs": [],
   "source": [
    "b=np.array([4,5,6])"
   ]
  },
  {
   "cell_type": "code",
   "execution_count": 5,
   "id": "2cb6ec9b-3811-4ec9-a9f9-cd99edb579c1",
   "metadata": {
    "tags": []
   },
   "outputs": [],
   "source": [
    "c= np.concatenate([a,b])"
   ]
  },
  {
   "cell_type": "code",
   "execution_count": 6,
   "id": "bae2303d-2637-4160-82b7-fd132eb6192e",
   "metadata": {
    "tags": []
   },
   "outputs": [
    {
     "data": {
      "text/plain": [
       "array([1, 2, 3, 4, 5, 6])"
      ]
     },
     "execution_count": 6,
     "metadata": {},
     "output_type": "execute_result"
    }
   ],
   "source": [
    "c"
   ]
  },
  {
   "cell_type": "code",
   "execution_count": 7,
   "id": "1a933b4d-32e7-4cb1-923f-df2709da5259",
   "metadata": {
    "tags": []
   },
   "outputs": [],
   "source": [
    "#iki boyut"
   ]
  },
  {
   "cell_type": "code",
   "execution_count": 14,
   "id": "90e9cc5c-ea15-4e04-a50a-43c03ca8b92e",
   "metadata": {
    "tags": []
   },
   "outputs": [],
   "source": [
    "aa=np.array([[1,2,3],[3,4,5]])"
   ]
  },
  {
   "cell_type": "code",
   "execution_count": 18,
   "id": "18ee41ec-9682-4699-b3c1-dad6cfebbd19",
   "metadata": {
    "tags": []
   },
   "outputs": [
    {
     "data": {
      "text/plain": [
       "array([[1, 2, 3],\n",
       "       [3, 4, 5],\n",
       "       [1, 2, 3],\n",
       "       [3, 4, 5]])"
      ]
     },
     "execution_count": 18,
     "metadata": {},
     "output_type": "execute_result"
    }
   ],
   "source": [
    "bb=np.concatenate([aa,aa])\n",
    "bb"
   ]
  },
  {
   "cell_type": "code",
   "execution_count": 19,
   "id": "71d1c431-4149-4e51-91cd-cf048279ce56",
   "metadata": {
    "tags": []
   },
   "outputs": [
    {
     "data": {
      "text/plain": [
       "array([[1, 2, 3],\n",
       "       [3, 4, 5],\n",
       "       [1, 2, 3],\n",
       "       [3, 4, 5]])"
      ]
     },
     "execution_count": 19,
     "metadata": {},
     "output_type": "execute_result"
    }
   ],
   "source": [
    "bb=np.concatenate([aa,aa],axis=0)\n",
    "bb"
   ]
  },
  {
   "cell_type": "code",
   "execution_count": 20,
   "id": "f995e8d2-41a2-4d5f-b50a-8a8ef0a4e266",
   "metadata": {
    "tags": []
   },
   "outputs": [
    {
     "data": {
      "text/plain": [
       "array([[1, 2, 3, 1, 2, 3],\n",
       "       [3, 4, 5, 3, 4, 5]])"
      ]
     },
     "execution_count": 20,
     "metadata": {},
     "output_type": "execute_result"
    }
   ],
   "source": [
    "bb=np.concatenate([aa,aa],axis=1)\n",
    "bb"
   ]
  },
  {
   "cell_type": "code",
   "execution_count": null,
   "id": "b0c5aa6d-351e-498f-854a-678787930b27",
   "metadata": {},
   "outputs": [],
   "source": []
  }
 ],
 "metadata": {
  "kernelspec": {
   "display_name": "Python 3 (ipykernel)",
   "language": "python",
   "name": "python3"
  },
  "language_info": {
   "codemirror_mode": {
    "name": "ipython",
    "version": 3
   },
   "file_extension": ".py",
   "mimetype": "text/x-python",
   "name": "python",
   "nbconvert_exporter": "python",
   "pygments_lexer": "ipython3",
   "version": "3.11.5"
  }
 },
 "nbformat": 4,
 "nbformat_minor": 5
}
