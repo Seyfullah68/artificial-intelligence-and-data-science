{
 "cells": [
  {
   "cell_type": "markdown",
   "id": "e5bea5b5-919d-4115-b524-9e5bb991d57d",
   "metadata": {},
   "source": [
    "# Reshape(yeniden boyutlandirma)"
   ]
  },
  {
   "cell_type": "code",
   "execution_count": 4,
   "id": "3764cd3c-81cc-48fb-89b8-0032c0cff03b",
   "metadata": {
    "tags": []
   },
   "outputs": [],
   "source": [
    "import numpy as np"
   ]
  },
  {
   "cell_type": "code",
   "execution_count": 15,
   "id": "3da5aeb9-971c-4e80-ac97-667a41c45631",
   "metadata": {
    "tags": []
   },
   "outputs": [],
   "source": [
    "a=np.arange(1,12,2)"
   ]
  },
  {
   "cell_type": "code",
   "execution_count": 16,
   "id": "aa7da8b8-b289-495a-857a-d4fb946847f2",
   "metadata": {
    "tags": []
   },
   "outputs": [
    {
     "data": {
      "text/plain": [
       "array([ 1,  3,  5,  7,  9, 11])"
      ]
     },
     "execution_count": 16,
     "metadata": {},
     "output_type": "execute_result"
    }
   ],
   "source": [
    "a"
   ]
  },
  {
   "cell_type": "code",
   "execution_count": 19,
   "id": "f00b4038-859f-4db8-8892-c0e7cb4fe57a",
   "metadata": {
    "tags": []
   },
   "outputs": [
    {
     "data": {
      "text/plain": [
       "array([[ 1,  3,  5],\n",
       "       [ 7,  9, 11]])"
      ]
     },
     "execution_count": 19,
     "metadata": {},
     "output_type": "execute_result"
    }
   ],
   "source": [
    "a.reshape(2,3)"
   ]
  },
  {
   "cell_type": "code",
   "execution_count": 21,
   "id": "b5a124fc-0158-4e9a-9e45-f62880690d28",
   "metadata": {
    "tags": []
   },
   "outputs": [
    {
     "data": {
      "text/plain": [
       "1"
      ]
     },
     "execution_count": 21,
     "metadata": {},
     "output_type": "execute_result"
    }
   ],
   "source": [
    "a.ndim"
   ]
  },
  {
   "cell_type": "code",
   "execution_count": 22,
   "id": "ff9c653f-11fa-4797-bc7d-075811a414e7",
   "metadata": {
    "tags": []
   },
   "outputs": [],
   "source": [
    "b=a.reshape(1,6)"
   ]
  },
  {
   "cell_type": "code",
   "execution_count": 23,
   "id": "2d5d1c7a-a257-4e12-9892-4e44454fa7ca",
   "metadata": {
    "tags": []
   },
   "outputs": [
    {
     "data": {
      "text/plain": [
       "array([[ 1,  3,  5,  7,  9, 11]])"
      ]
     },
     "execution_count": 23,
     "metadata": {},
     "output_type": "execute_result"
    }
   ],
   "source": [
    "b"
   ]
  },
  {
   "cell_type": "code",
   "execution_count": 26,
   "id": "dcf2ef2d-5f7b-47fa-90b2-4e43aa041f54",
   "metadata": {
    "tags": []
   },
   "outputs": [
    {
     "data": {
      "text/plain": [
       "2"
      ]
     },
     "execution_count": 26,
     "metadata": {},
     "output_type": "execute_result"
    }
   ],
   "source": [
    "b.ndim\n",
    "#artik tek boyutlu matris(dizi degil)"
   ]
  },
  {
   "cell_type": "code",
   "execution_count": null,
   "id": "bc7ce2cb-ee76-44ca-b0ba-9465ea254d72",
   "metadata": {},
   "outputs": [],
   "source": []
  }
 ],
 "metadata": {
  "kernelspec": {
   "display_name": "Python 3 (ipykernel)",
   "language": "python",
   "name": "python3"
  },
  "language_info": {
   "codemirror_mode": {
    "name": "ipython",
    "version": 3
   },
   "file_extension": ".py",
   "mimetype": "text/x-python",
   "name": "python",
   "nbconvert_exporter": "python",
   "pygments_lexer": "ipython3",
   "version": "3.11.5"
  }
 },
 "nbformat": 4,
 "nbformat_minor": 5
}
