{
 "cells": [
  {
   "cell_type": "markdown",
   "id": "421489b3-869b-4582-907a-455c8086bff4",
   "metadata": {},
   "source": [
    "# iki bilinmeyenli denklem cozumu"
   ]
  },
  {
   "cell_type": "code",
   "execution_count": 1,
   "id": "78ca96d2-6275-4da9-a2b8-d3080b66ee8b",
   "metadata": {
    "tags": []
   },
   "outputs": [],
   "source": [
    "import numpy as np"
   ]
  },
  {
   "cell_type": "code",
   "execution_count": 2,
   "id": "c08ff822-7a88-4f68-8a90-8bc124061c97",
   "metadata": {
    "tags": []
   },
   "outputs": [],
   "source": [
    "# 5*x1+x2=11\n",
    "# x1-x2=1"
   ]
  },
  {
   "cell_type": "code",
   "execution_count": 8,
   "id": "416b24f5-7696-4be6-9f7d-cc0af33ba21a",
   "metadata": {
    "tags": []
   },
   "outputs": [],
   "source": [
    "a=np.array([[5,1],[1,-1]])"
   ]
  },
  {
   "cell_type": "code",
   "execution_count": 9,
   "id": "ab311622-af8d-4748-9207-1e331b47bc03",
   "metadata": {
    "tags": []
   },
   "outputs": [],
   "source": [
    "b=np.array([11,1])"
   ]
  },
  {
   "cell_type": "code",
   "execution_count": 10,
   "id": "0583d17f-2da1-42d5-8667-3d8d2e7bae32",
   "metadata": {
    "tags": []
   },
   "outputs": [
    {
     "data": {
      "text/plain": [
       "array([2., 1.])"
      ]
     },
     "execution_count": 10,
     "metadata": {},
     "output_type": "execute_result"
    }
   ],
   "source": [
    "x=np.linalg.solve(a,b)\n",
    "x"
   ]
  },
  {
   "cell_type": "code",
   "execution_count": null,
   "id": "beff0f6f-9dbb-4919-ad1b-9fa51f20501c",
   "metadata": {},
   "outputs": [],
   "source": []
  }
 ],
 "metadata": {
  "kernelspec": {
   "display_name": "Python 3 (ipykernel)",
   "language": "python",
   "name": "python3"
  },
  "language_info": {
   "codemirror_mode": {
    "name": "ipython",
    "version": 3
   },
   "file_extension": ".py",
   "mimetype": "text/x-python",
   "name": "python",
   "nbconvert_exporter": "python",
   "pygments_lexer": "ipython3",
   "version": "3.11.5"
  }
 },
 "nbformat": 4,
 "nbformat_minor": 5
}
