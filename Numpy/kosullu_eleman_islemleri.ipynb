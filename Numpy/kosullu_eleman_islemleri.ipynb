{
 "cells": [
  {
   "cell_type": "markdown",
   "id": "3159fb5d-493a-4634-9f8d-c7bb8afadbf0",
   "metadata": {},
   "source": [
    "# kosullu eleman islemleri"
   ]
  },
  {
   "cell_type": "code",
   "execution_count": 1,
   "id": "00f13700-3f71-45a5-b78a-e4087b6f5bb5",
   "metadata": {
    "tags": []
   },
   "outputs": [],
   "source": [
    "import numpy as np"
   ]
  },
  {
   "cell_type": "code",
   "execution_count": 3,
   "id": "6dd602f5-437a-405c-afcf-b7782e87be89",
   "metadata": {
    "tags": []
   },
   "outputs": [],
   "source": [
    "m=np.array([1,2,3,4,5])"
   ]
  },
  {
   "cell_type": "code",
   "execution_count": 4,
   "id": "8cc7dcf5-bb46-4e2a-b3a6-331170571ca1",
   "metadata": {
    "tags": []
   },
   "outputs": [
    {
     "data": {
      "text/plain": [
       "array([ True,  True, False, False, False])"
      ]
     },
     "execution_count": 4,
     "metadata": {},
     "output_type": "execute_result"
    }
   ],
   "source": [
    "m<3"
   ]
  },
  {
   "cell_type": "code",
   "execution_count": 5,
   "id": "b20a4d04-b574-4a81-94e5-95de58c68bd6",
   "metadata": {
    "tags": []
   },
   "outputs": [
    {
     "data": {
      "text/plain": [
       "array([1, 2])"
      ]
     },
     "execution_count": 5,
     "metadata": {},
     "output_type": "execute_result"
    }
   ],
   "source": [
    "m[m<3]"
   ]
  },
  {
   "cell_type": "code",
   "execution_count": 6,
   "id": "04d7e397-17e0-40f9-a2eb-ba455b22d3df",
   "metadata": {
    "tags": []
   },
   "outputs": [
    {
     "data": {
      "text/plain": [
       "array([3, 4, 5])"
      ]
     },
     "execution_count": 6,
     "metadata": {},
     "output_type": "execute_result"
    }
   ],
   "source": [
    "m[m>=3]"
   ]
  },
  {
   "cell_type": "code",
   "execution_count": 7,
   "id": "cbdb2e0b-5d77-432c-be96-7778bcc5323d",
   "metadata": {
    "tags": []
   },
   "outputs": [
    {
     "data": {
      "text/plain": [
       "array([1, 2, 4, 5])"
      ]
     },
     "execution_count": 7,
     "metadata": {},
     "output_type": "execute_result"
    }
   ],
   "source": [
    "m[m!=3]"
   ]
  },
  {
   "cell_type": "code",
   "execution_count": 8,
   "id": "9aace170-c523-417d-ac27-2e0603e6a154",
   "metadata": {
    "tags": []
   },
   "outputs": [
    {
     "data": {
      "text/plain": [
       "array([ 1,  4,  9, 16, 25])"
      ]
     },
     "execution_count": 8,
     "metadata": {},
     "output_type": "execute_result"
    }
   ],
   "source": [
    "m**2"
   ]
  },
  {
   "cell_type": "code",
   "execution_count": 9,
   "id": "c7971c33-bb2f-487a-87a8-ea7f09555000",
   "metadata": {
    "tags": []
   },
   "outputs": [
    {
     "data": {
      "text/plain": [
       "array([0.33333333, 0.66666667, 1.        , 1.33333333, 1.66666667])"
      ]
     },
     "execution_count": 9,
     "metadata": {},
     "output_type": "execute_result"
    }
   ],
   "source": [
    "m/3"
   ]
  },
  {
   "cell_type": "code",
   "execution_count": null,
   "id": "c59c4171-bdba-4d3b-82a3-641c359b9f8b",
   "metadata": {},
   "outputs": [],
   "source": []
  }
 ],
 "metadata": {
  "kernelspec": {
   "display_name": "Python 3 (ipykernel)",
   "language": "python",
   "name": "python3"
  },
  "language_info": {
   "codemirror_mode": {
    "name": "ipython",
    "version": 3
   },
   "file_extension": ".py",
   "mimetype": "text/x-python",
   "name": "python",
   "nbconvert_exporter": "python",
   "pygments_lexer": "ipython3",
   "version": "3.11.5"
  }
 },
 "nbformat": 4,
 "nbformat_minor": 5
}
