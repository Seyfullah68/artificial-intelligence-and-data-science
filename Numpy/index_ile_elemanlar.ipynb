{
 "cells": [
  {
   "cell_type": "markdown",
   "id": "4f775463-68dc-465b-ab12-8b33bc52ed46",
   "metadata": {},
   "source": [
    "# index ile elemanlara erismek"
   ]
  },
  {
   "cell_type": "code",
   "execution_count": 1,
   "id": "058451e0-ea21-4734-a979-fde49ff964d2",
   "metadata": {
    "tags": []
   },
   "outputs": [],
   "source": [
    "import numpy as np"
   ]
  },
  {
   "cell_type": "code",
   "execution_count": 2,
   "id": "1b1a5ef6-bbbd-49ff-a083-d82af49fc31b",
   "metadata": {
    "tags": []
   },
   "outputs": [],
   "source": [
    "x=np.random.randint(10,size=10)"
   ]
  },
  {
   "cell_type": "code",
   "execution_count": 3,
   "id": "8c9e4f0c-6c83-40b2-8e6d-0d633728bf1e",
   "metadata": {
    "tags": []
   },
   "outputs": [
    {
     "data": {
      "text/plain": [
       "array([1, 1, 7, 4, 4, 2, 8, 3, 1, 9])"
      ]
     },
     "execution_count": 3,
     "metadata": {},
     "output_type": "execute_result"
    }
   ],
   "source": [
    "x"
   ]
  },
  {
   "cell_type": "code",
   "execution_count": 4,
   "id": "3bc57c1f-a17e-438d-a2d7-d8a24c8616b7",
   "metadata": {
    "tags": []
   },
   "outputs": [
    {
     "data": {
      "text/plain": [
       "1"
      ]
     },
     "execution_count": 4,
     "metadata": {},
     "output_type": "execute_result"
    }
   ],
   "source": [
    "x[0]"
   ]
  },
  {
   "cell_type": "code",
   "execution_count": 5,
   "id": "1f995a2a-6cf3-4389-be0f-0c84715c07fc",
   "metadata": {
    "tags": []
   },
   "outputs": [
    {
     "data": {
      "text/plain": [
       "3"
      ]
     },
     "execution_count": 5,
     "metadata": {},
     "output_type": "execute_result"
    }
   ],
   "source": [
    "x[7]"
   ]
  },
  {
   "cell_type": "code",
   "execution_count": 6,
   "id": "440fbb48-f686-48ac-8659-bb7c075daeb1",
   "metadata": {
    "tags": []
   },
   "outputs": [
    {
     "data": {
      "text/plain": [
       "1"
      ]
     },
     "execution_count": 6,
     "metadata": {},
     "output_type": "execute_result"
    }
   ],
   "source": [
    "x[-2]"
   ]
  },
  {
   "cell_type": "code",
   "execution_count": null,
   "id": "5bcd1cad-261b-4260-ac56-08dda985ea24",
   "metadata": {},
   "outputs": [],
   "source": [
    "#iki boyutlu"
   ]
  },
  {
   "cell_type": "code",
   "execution_count": 7,
   "id": "2d0cbd3a-365f-4b0f-bedb-aeedbf19610d",
   "metadata": {
    "tags": []
   },
   "outputs": [
    {
     "data": {
      "text/plain": [
       "array([[ 2,  2, 10, 13],\n",
       "       [11, 10,  7,  3],\n",
       "       [10,  4,  4,  8],\n",
       "       [ 7,  2, 13,  4],\n",
       "       [ 6,  5,  1, 12]])"
      ]
     },
     "execution_count": 7,
     "metadata": {},
     "output_type": "execute_result"
    }
   ],
   "source": [
    "m=np.random.randint(15,size=(5,4))\n",
    "m"
   ]
  },
  {
   "cell_type": "code",
   "execution_count": 8,
   "id": "9c8ad9b8-d8d2-477d-8dec-4ebd6e985746",
   "metadata": {
    "tags": []
   },
   "outputs": [
    {
     "data": {
      "text/plain": [
       "10"
      ]
     },
     "execution_count": 8,
     "metadata": {},
     "output_type": "execute_result"
    }
   ],
   "source": [
    "m[2,0]"
   ]
  },
  {
   "cell_type": "code",
   "execution_count": 9,
   "id": "add0ec0f-9b9c-4a6b-8cf6-8f23c893d79d",
   "metadata": {
    "tags": []
   },
   "outputs": [
    {
     "data": {
      "text/plain": [
       "array([[  2,   2,  10,  13],\n",
       "       [ 11,  10,   7,   3],\n",
       "       [ 10,   4,   4,   8],\n",
       "       [  7,   2,  13,   4],\n",
       "       [  6,   5,   1, 120]])"
      ]
     },
     "execution_count": 9,
     "metadata": {},
     "output_type": "execute_result"
    }
   ],
   "source": [
    "m[4,3]=120\n",
    "m"
   ]
  },
  {
   "cell_type": "code",
   "execution_count": 10,
   "id": "5fc1bb0d-bfd5-4778-b026-cf91023afffa",
   "metadata": {
    "tags": []
   },
   "outputs": [
    {
     "data": {
      "text/plain": [
       "array([[  5,   2,  10,  13],\n",
       "       [ 11,  10,   7,   3],\n",
       "       [ 10,   4,   4,   8],\n",
       "       [  7,   2,  13,   4],\n",
       "       [  6,   5,   1, 120]])"
      ]
     },
     "execution_count": 10,
     "metadata": {},
     "output_type": "execute_result"
    }
   ],
   "source": [
    "m[0][0]=5.3\n",
    "m"
   ]
  },
  {
   "cell_type": "code",
   "execution_count": null,
   "id": "2a2cd598-04e0-4bb3-bcf5-a3f3446ed2a9",
   "metadata": {},
   "outputs": [],
   "source": [
    "#array int oldugu icin girilen float in kesirli kısmını attı"
   ]
  }
 ],
 "metadata": {
  "kernelspec": {
   "display_name": "Python 3 (ipykernel)",
   "language": "python",
   "name": "python3"
  },
  "language_info": {
   "codemirror_mode": {
    "name": "ipython",
    "version": 3
   },
   "file_extension": ".py",
   "mimetype": "text/x-python",
   "name": "python",
   "nbconvert_exporter": "python",
   "pygments_lexer": "ipython3",
   "version": "3.11.5"
  }
 },
 "nbformat": 4,
 "nbformat_minor": 5
}
