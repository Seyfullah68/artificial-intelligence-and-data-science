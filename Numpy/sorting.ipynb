{
 "cells": [
  {
   "cell_type": "markdown",
   "id": "26bd0026-9240-48f1-8bf4-47b0f97f03ed",
   "metadata": {},
   "source": [
    "# sorting(siralama)"
   ]
  },
  {
   "cell_type": "code",
   "execution_count": 2,
   "id": "67531959-748d-4c16-9b0e-df96d1bec358",
   "metadata": {
    "tags": []
   },
   "outputs": [],
   "source": [
    "import numpy as np"
   ]
  },
  {
   "cell_type": "code",
   "execution_count": 3,
   "id": "55c2ffab-aafd-4f2d-aa51-3d7c95fd62fc",
   "metadata": {
    "tags": []
   },
   "outputs": [],
   "source": [
    "x=np.array([7,4,5,1,2,6,3])"
   ]
  },
  {
   "cell_type": "code",
   "execution_count": 4,
   "id": "9d86a422-8c20-436f-a19b-af8507994b1a",
   "metadata": {
    "tags": []
   },
   "outputs": [
    {
     "data": {
      "text/plain": [
       "array([1, 2, 3, 4, 5, 6, 7])"
      ]
     },
     "execution_count": 4,
     "metadata": {},
     "output_type": "execute_result"
    }
   ],
   "source": [
    "np.sort(x)"
   ]
  },
  {
   "cell_type": "markdown",
   "id": "4b1b0f67-48a6-4d21-afb6-2bde020279c6",
   "metadata": {
    "tags": []
   },
   "source": [
    "x.sort()"
   ]
  },
  {
   "cell_type": "code",
   "execution_count": 6,
   "id": "83a6f23c-22b0-42eb-9645-3e62ffcccc78",
   "metadata": {
    "tags": []
   },
   "outputs": [
    {
     "data": {
      "text/plain": [
       "array([1, 2, 3, 4, 5, 6, 7])"
      ]
     },
     "execution_count": 6,
     "metadata": {},
     "output_type": "execute_result"
    }
   ],
   "source": [
    "x"
   ]
  },
  {
   "cell_type": "code",
   "execution_count": null,
   "id": "5fe4e7e9-1e40-490f-b108-21040fbc65fd",
   "metadata": {},
   "outputs": [],
   "source": [
    "#iki boyutlu dizilerde"
   ]
  },
  {
   "cell_type": "code",
   "execution_count": 7,
   "id": "e678983e-c764-4ae0-8395-3fa04f34d84c",
   "metadata": {
    "tags": []
   },
   "outputs": [],
   "source": [
    "y=np.random.normal(20,5,(4,4))"
   ]
  },
  {
   "cell_type": "code",
   "execution_count": 8,
   "id": "c3376331-ab1b-456d-8cfd-9dd5df562905",
   "metadata": {
    "tags": []
   },
   "outputs": [
    {
     "data": {
      "text/plain": [
       "array([[23.64640743, 20.46872186, 17.25274632, 19.02326576],\n",
       "       [20.22179046, 17.57726053, 20.67497809, 25.95827193],\n",
       "       [27.03646266, 23.6827842 , 17.94456377, 22.21386266],\n",
       "       [24.12648575, 24.13011307, 19.95017487, 19.1544898 ]])"
      ]
     },
     "execution_count": 8,
     "metadata": {},
     "output_type": "execute_result"
    }
   ],
   "source": [
    "y"
   ]
  },
  {
   "cell_type": "code",
   "execution_count": 9,
   "id": "98737589-3d41-48d7-9915-40044f5ca655",
   "metadata": {
    "tags": []
   },
   "outputs": [
    {
     "data": {
      "text/plain": [
       "array([[20.22179046, 17.57726053, 17.25274632, 19.02326576],\n",
       "       [23.64640743, 20.46872186, 17.94456377, 19.1544898 ],\n",
       "       [24.12648575, 23.6827842 , 19.95017487, 22.21386266],\n",
       "       [27.03646266, 24.13011307, 20.67497809, 25.95827193]])"
      ]
     },
     "execution_count": 9,
     "metadata": {},
     "output_type": "execute_result"
    }
   ],
   "source": [
    "np.sort(y,axis=0)"
   ]
  },
  {
   "cell_type": "code",
   "execution_count": 10,
   "id": "202b752b-3b28-4345-91eb-742812e38cd2",
   "metadata": {
    "tags": []
   },
   "outputs": [
    {
     "data": {
      "text/plain": [
       "array([[17.25274632, 19.02326576, 20.46872186, 23.64640743],\n",
       "       [17.57726053, 20.22179046, 20.67497809, 25.95827193],\n",
       "       [17.94456377, 22.21386266, 23.6827842 , 27.03646266],\n",
       "       [19.1544898 , 19.95017487, 24.12648575, 24.13011307]])"
      ]
     },
     "execution_count": 10,
     "metadata": {},
     "output_type": "execute_result"
    }
   ],
   "source": [
    "np.sort(y,axis=1)"
   ]
  },
  {
   "cell_type": "code",
   "execution_count": null,
   "id": "1667038f-2c67-4def-8a21-619af98e3de4",
   "metadata": {},
   "outputs": [],
   "source": []
  }
 ],
 "metadata": {
  "kernelspec": {
   "display_name": "Python 3 (ipykernel)",
   "language": "python",
   "name": "python3"
  },
  "language_info": {
   "codemirror_mode": {
    "name": "ipython",
    "version": 3
   },
   "file_extension": ".py",
   "mimetype": "text/x-python",
   "name": "python",
   "nbconvert_exporter": "python",
   "pygments_lexer": "ipython3",
   "version": "3.11.5"
  }
 },
 "nbformat": 4,
 "nbformat_minor": 5
}
