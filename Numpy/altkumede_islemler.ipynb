{
 "cells": [
  {
   "cell_type": "markdown",
   "id": "78cef3d4-cd13-4888-91b8-2633a71bb1d3",
   "metadata": {},
   "source": [
    "# alt kumede islemler"
   ]
  },
  {
   "cell_type": "code",
   "execution_count": 1,
   "id": "76819a59-83e0-4212-8a71-897eb465c72e",
   "metadata": {
    "tags": []
   },
   "outputs": [],
   "source": [
    "import numpy as np"
   ]
  },
  {
   "cell_type": "code",
   "execution_count": 5,
   "id": "ed58f76f-fad9-4e4c-8d81-80138055b148",
   "metadata": {
    "tags": []
   },
   "outputs": [],
   "source": [
    "a=np.random.randint(10,size=(5,5))"
   ]
  },
  {
   "cell_type": "code",
   "execution_count": 6,
   "id": "86fc9f37-8025-4018-8343-2d445b5b588e",
   "metadata": {
    "tags": []
   },
   "outputs": [
    {
     "data": {
      "text/plain": [
       "array([[7, 2, 5, 9, 1],\n",
       "       [3, 9, 7, 2, 6],\n",
       "       [3, 6, 0, 0, 4],\n",
       "       [8, 6, 4, 5, 3],\n",
       "       [9, 4, 0, 0, 6]])"
      ]
     },
     "execution_count": 6,
     "metadata": {},
     "output_type": "execute_result"
    }
   ],
   "source": [
    "a"
   ]
  },
  {
   "cell_type": "code",
   "execution_count": 7,
   "id": "b9bd489b-fbd8-4eac-b58f-48c80109673b",
   "metadata": {
    "tags": []
   },
   "outputs": [
    {
     "data": {
      "text/plain": [
       "array([[7, 2],\n",
       "       [3, 9]])"
      ]
     },
     "execution_count": 7,
     "metadata": {},
     "output_type": "execute_result"
    }
   ],
   "source": [
    "alt_a=a[0:2,0:2]\n",
    "alt_a"
   ]
  },
  {
   "cell_type": "code",
   "execution_count": 8,
   "id": "62cbdcd1-fdd2-4a7d-9692-15a7d18f76bb",
   "metadata": {
    "tags": []
   },
   "outputs": [
    {
     "data": {
      "text/plain": [
       "5555"
      ]
     },
     "execution_count": 8,
     "metadata": {},
     "output_type": "execute_result"
    }
   ],
   "source": [
    "alt_a[0,0]=5555\n",
    "alt_a[0,0]"
   ]
  },
  {
   "cell_type": "code",
   "execution_count": 10,
   "id": "499f51ca-c14d-4c3a-95e9-704271689df3",
   "metadata": {
    "tags": []
   },
   "outputs": [
    {
     "data": {
      "text/plain": [
       "array([[5555,    2,    5,    9,    1],\n",
       "       [   3,    9,    7,    2,    6],\n",
       "       [   3,    6,    0,    0,    4],\n",
       "       [   8,    6,    4,    5,    3],\n",
       "       [   9,    4,    0,    0,    6]])"
      ]
     },
     "execution_count": 10,
     "metadata": {},
     "output_type": "execute_result"
    }
   ],
   "source": [
    "a"
   ]
  },
  {
   "cell_type": "code",
   "execution_count": 11,
   "id": "daf6ebe2-8604-4c55-b1a5-5a26fcf51389",
   "metadata": {
    "tags": []
   },
   "outputs": [],
   "source": [
    "#yapilan islem ana kumede de gerceklesti, cozumu altta:"
   ]
  },
  {
   "cell_type": "code",
   "execution_count": 13,
   "id": "3c2558c9-84db-41da-94b9-a1d774e926ed",
   "metadata": {
    "tags": []
   },
   "outputs": [
    {
     "data": {
      "text/plain": [
       "array([[2, 9, 6, 3, 7],\n",
       "       [3, 3, 2, 2, 6],\n",
       "       [9, 4, 4, 1, 1],\n",
       "       [5, 9, 6, 8, 3],\n",
       "       [8, 0, 1, 4, 7]])"
      ]
     },
     "execution_count": 13,
     "metadata": {},
     "output_type": "execute_result"
    }
   ],
   "source": [
    "m=np.random.randint(10,size=(5,5))\n",
    "m"
   ]
  },
  {
   "cell_type": "code",
   "execution_count": 14,
   "id": "339652a2-8fd0-46b1-93bc-86b30c47affb",
   "metadata": {
    "tags": []
   },
   "outputs": [
    {
     "data": {
      "text/plain": [
       "array([[2, 9],\n",
       "       [3, 3]])"
      ]
     },
     "execution_count": 14,
     "metadata": {},
     "output_type": "execute_result"
    }
   ],
   "source": [
    "alt_m=m[0:2,0:2].copy()\n",
    "alt_m"
   ]
  },
  {
   "cell_type": "code",
   "execution_count": 15,
   "id": "e0c732be-1b5b-4bf5-983b-62ae9f209195",
   "metadata": {
    "tags": []
   },
   "outputs": [
    {
     "data": {
      "text/plain": [
       "7777"
      ]
     },
     "execution_count": 15,
     "metadata": {},
     "output_type": "execute_result"
    }
   ],
   "source": [
    "alt_m[0,0]=7777\n",
    "alt_m[0,0]"
   ]
  },
  {
   "cell_type": "code",
   "execution_count": 17,
   "id": "68a55ba2-1026-438c-ab9a-c6d42fbaa70b",
   "metadata": {
    "tags": []
   },
   "outputs": [
    {
     "data": {
      "text/plain": [
       "array([[2, 9, 6, 3, 7],\n",
       "       [3, 3, 2, 2, 6],\n",
       "       [9, 4, 4, 1, 1],\n",
       "       [5, 9, 6, 8, 3],\n",
       "       [8, 0, 1, 4, 7]])"
      ]
     },
     "execution_count": 17,
     "metadata": {},
     "output_type": "execute_result"
    }
   ],
   "source": [
    "m\n",
    "#ana kumede degisim olmadi"
   ]
  },
  {
   "cell_type": "code",
   "execution_count": null,
   "id": "91ae2f20-a4c1-46c7-bda4-51cab1e11442",
   "metadata": {},
   "outputs": [],
   "source": []
  }
 ],
 "metadata": {
  "kernelspec": {
   "display_name": "Python 3 (ipykernel)",
   "language": "python",
   "name": "python3"
  },
  "language_info": {
   "codemirror_mode": {
    "name": "ipython",
    "version": 3
   },
   "file_extension": ".py",
   "mimetype": "text/x-python",
   "name": "python",
   "nbconvert_exporter": "python",
   "pygments_lexer": "ipython3",
   "version": "3.11.5"
  }
 },
 "nbformat": 4,
 "nbformat_minor": 5
}
