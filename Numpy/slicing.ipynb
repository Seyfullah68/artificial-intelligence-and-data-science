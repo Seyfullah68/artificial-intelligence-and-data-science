{
 "cells": [
  {
   "cell_type": "markdown",
   "id": "a353ac9d-4576-45fe-8c3c-6c5a1d843c45",
   "metadata": {},
   "source": [
    "# slicing (alt kume islemleri)"
   ]
  },
  {
   "cell_type": "code",
   "execution_count": 1,
   "id": "1e30a5a8-1abb-4542-a67c-0d0c0da68d87",
   "metadata": {
    "tags": []
   },
   "outputs": [],
   "source": [
    "import numpy as np"
   ]
  },
  {
   "cell_type": "code",
   "execution_count": 3,
   "id": "e80de022-6b3c-4a87-9c53-dd406474e45c",
   "metadata": {
    "tags": []
   },
   "outputs": [
    {
     "data": {
      "text/plain": [
       "array([20, 21, 22, 23, 24, 25, 26, 27, 28, 29, 30])"
      ]
     },
     "execution_count": 3,
     "metadata": {},
     "output_type": "execute_result"
    }
   ],
   "source": [
    "x=np.arange(20,31)\n",
    "x"
   ]
  },
  {
   "cell_type": "code",
   "execution_count": 4,
   "id": "19cfe461-2f3c-46c7-b294-8467394da991",
   "metadata": {
    "tags": []
   },
   "outputs": [
    {
     "data": {
      "text/plain": [
       "array([20, 21, 22, 23, 24])"
      ]
     },
     "execution_count": 4,
     "metadata": {},
     "output_type": "execute_result"
    }
   ],
   "source": [
    "x[0:5]"
   ]
  },
  {
   "cell_type": "code",
   "execution_count": 5,
   "id": "857d9b72-9ca5-4df0-919e-7cb66ac21fd6",
   "metadata": {
    "tags": []
   },
   "outputs": [
    {
     "data": {
      "text/plain": [
       "array([20, 22, 24, 26, 28, 30])"
      ]
     },
     "execution_count": 5,
     "metadata": {},
     "output_type": "execute_result"
    }
   ],
   "source": [
    "x[0::2]\n",
    "#ikiser olarak alir"
   ]
  },
  {
   "cell_type": "code",
   "execution_count": 6,
   "id": "eeb9c77d-1e91-45cd-b877-4f1577a343e4",
   "metadata": {
    "tags": []
   },
   "outputs": [
    {
     "data": {
      "text/plain": [
       "array([21, 23, 25, 27, 29])"
      ]
     },
     "execution_count": 6,
     "metadata": {},
     "output_type": "execute_result"
    }
   ],
   "source": [
    "x[1::2]"
   ]
  },
  {
   "cell_type": "code",
   "execution_count": null,
   "id": "8e0c5fda-3066-4a41-b183-bea6b34dffd5",
   "metadata": {},
   "outputs": [],
   "source": [
    "#iki boyutlu"
   ]
  },
  {
   "cell_type": "code",
   "execution_count": 8,
   "id": "00a1a906-6875-4b6e-be4e-f7ef6943a91c",
   "metadata": {
    "tags": []
   },
   "outputs": [
    {
     "data": {
      "text/plain": [
       "array([[13,  9, 14,  3, 13, 10],\n",
       "       [12,  1,  8,  6,  3,  5],\n",
       "       [10,  2,  5,  0, 12,  9],\n",
       "       [12,  3,  3, 10,  6,  5],\n",
       "       [ 0, 11, 12, 12, 10,  2],\n",
       "       [ 2,  5, 14, 13,  8,  2]])"
      ]
     },
     "execution_count": 8,
     "metadata": {},
     "output_type": "execute_result"
    }
   ],
   "source": [
    "m=np.random.randint(15,size=(6,6))\n",
    "m"
   ]
  },
  {
   "cell_type": "code",
   "execution_count": 9,
   "id": "76f63657-20c7-4bf1-b430-8e23ce6a8592",
   "metadata": {
    "tags": []
   },
   "outputs": [
    {
     "data": {
      "text/plain": [
       "array([ 3,  6,  0, 10, 12, 13])"
      ]
     },
     "execution_count": 9,
     "metadata": {},
     "output_type": "execute_result"
    }
   ],
   "source": [
    "m[:,3]"
   ]
  },
  {
   "cell_type": "code",
   "execution_count": 10,
   "id": "50ef13ff-e975-4d4c-91b2-0c09e7ce4f3d",
   "metadata": {
    "tags": []
   },
   "outputs": [
    {
     "data": {
      "text/plain": [
       "array([13, 12, 10, 12,  0,  2])"
      ]
     },
     "execution_count": 10,
     "metadata": {},
     "output_type": "execute_result"
    }
   ],
   "source": [
    "m[:,0]"
   ]
  },
  {
   "cell_type": "code",
   "execution_count": 11,
   "id": "94b67a75-b454-44f3-a210-75ca4c175791",
   "metadata": {
    "tags": []
   },
   "outputs": [
    {
     "data": {
      "text/plain": [
       "array([ 0, 11, 12, 12, 10,  2])"
      ]
     },
     "execution_count": 11,
     "metadata": {},
     "output_type": "execute_result"
    }
   ],
   "source": [
    "m[4,:]"
   ]
  },
  {
   "cell_type": "code",
   "execution_count": 12,
   "id": "3cc946fb-9571-4ba9-ac0e-d340f5386b23",
   "metadata": {
    "tags": []
   },
   "outputs": [
    {
     "data": {
      "text/plain": [
       "array([[13,  9, 14],\n",
       "       [12,  1,  8]])"
      ]
     },
     "execution_count": 12,
     "metadata": {},
     "output_type": "execute_result"
    }
   ],
   "source": [
    "m[0:2,0:3]"
   ]
  },
  {
   "cell_type": "code",
   "execution_count": 13,
   "id": "f2b443c8-40ac-418b-9ec6-ed6a1a2ab92e",
   "metadata": {
    "tags": []
   },
   "outputs": [
    {
     "data": {
      "text/plain": [
       "array([[ 0, 11, 12, 12, 10],\n",
       "       [ 2,  5, 14, 13,  8]])"
      ]
     },
     "execution_count": 13,
     "metadata": {},
     "output_type": "execute_result"
    }
   ],
   "source": [
    "m[4:,0:5]"
   ]
  },
  {
   "cell_type": "code",
   "execution_count": 14,
   "id": "d39a9923-d88e-433a-b6c3-5827c0c8daf8",
   "metadata": {
    "tags": []
   },
   "outputs": [
    {
     "data": {
      "text/plain": [
       "array([[13],\n",
       "       [12]])"
      ]
     },
     "execution_count": 14,
     "metadata": {},
     "output_type": "execute_result"
    }
   ],
   "source": [
    "m[0:2,0:1]"
   ]
  },
  {
   "cell_type": "code",
   "execution_count": null,
   "id": "ffa9eec6-b43d-4755-ae3a-7447b94e1361",
   "metadata": {},
   "outputs": [],
   "source": []
  }
 ],
 "metadata": {
  "kernelspec": {
   "display_name": "Python 3 (ipykernel)",
   "language": "python",
   "name": "python3"
  },
  "language_info": {
   "codemirror_mode": {
    "name": "ipython",
    "version": 3
   },
   "file_extension": ".py",
   "mimetype": "text/x-python",
   "name": "python",
   "nbconvert_exporter": "python",
   "pygments_lexer": "ipython3",
   "version": "3.11.5"
  }
 },
 "nbformat": 4,
 "nbformat_minor": 5
}
