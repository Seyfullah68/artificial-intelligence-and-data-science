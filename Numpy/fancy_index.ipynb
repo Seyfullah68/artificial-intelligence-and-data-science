{
 "cells": [
  {
   "cell_type": "markdown",
   "id": "9273c7e3-6645-4dfd-9df9-55e2ed0a7931",
   "metadata": {},
   "source": [
    "# fancy index ile elemanlara erismek"
   ]
  },
  {
   "cell_type": "code",
   "execution_count": 1,
   "id": "89f3ab20-38f2-4730-a155-4cc0b99c1a5c",
   "metadata": {
    "tags": []
   },
   "outputs": [],
   "source": [
    "import numpy as np"
   ]
  },
  {
   "cell_type": "code",
   "execution_count": 2,
   "id": "233bf8d8-5eca-4192-b225-cebacfeb2c14",
   "metadata": {
    "tags": []
   },
   "outputs": [
    {
     "data": {
      "text/plain": [
       "array([ 0,  3,  6,  9, 12, 15, 18, 21, 24, 27, 30])"
      ]
     },
     "execution_count": 2,
     "metadata": {},
     "output_type": "execute_result"
    }
   ],
   "source": [
    "v=np.arange(0,31,3)\n",
    "v"
   ]
  },
  {
   "cell_type": "code",
   "execution_count": 3,
   "id": "450fe4af-11a8-45c0-983f-8314c0975bdb",
   "metadata": {
    "tags": []
   },
   "outputs": [],
   "source": [
    "kume=[1,3,5]"
   ]
  },
  {
   "cell_type": "code",
   "execution_count": 5,
   "id": "6c25a589-3d5a-40e1-9f50-07790ec5626b",
   "metadata": {
    "tags": []
   },
   "outputs": [
    {
     "data": {
      "text/plain": [
       "array([ 3,  9, 15])"
      ]
     },
     "execution_count": 5,
     "metadata": {},
     "output_type": "execute_result"
    }
   ],
   "source": [
    "v[kume]"
   ]
  },
  {
   "cell_type": "code",
   "execution_count": 6,
   "id": "c9786dbd-55a5-4f0f-8e30-0fcd1da90d67",
   "metadata": {
    "tags": []
   },
   "outputs": [],
   "source": [
    "#iki boyutta"
   ]
  },
  {
   "cell_type": "code",
   "execution_count": 7,
   "id": "28fe8e71-c531-41ce-aa6b-db10faae9663",
   "metadata": {
    "tags": []
   },
   "outputs": [
    {
     "data": {
      "text/plain": [
       "array([[ 0,  1,  2,  3],\n",
       "       [ 4,  5,  6,  7],\n",
       "       [ 8,  9, 10, 11],\n",
       "       [12, 13, 14, 15]])"
      ]
     },
     "execution_count": 7,
     "metadata": {},
     "output_type": "execute_result"
    }
   ],
   "source": [
    "m=np.arange(16).reshape(4,4)\n",
    "m"
   ]
  },
  {
   "cell_type": "code",
   "execution_count": 8,
   "id": "ec125a1d-2d89-4bb5-8ac6-a4ab3eff0739",
   "metadata": {
    "tags": []
   },
   "outputs": [],
   "source": [
    "satir=np.array([0,1])\n",
    "sutun=np.array([1,2])"
   ]
  },
  {
   "cell_type": "code",
   "execution_count": 9,
   "id": "06f3eeab-6b56-4907-95fe-5622eb61ddae",
   "metadata": {
    "tags": []
   },
   "outputs": [
    {
     "data": {
      "text/plain": [
       "array([1, 6])"
      ]
     },
     "execution_count": 9,
     "metadata": {},
     "output_type": "execute_result"
    }
   ],
   "source": [
    "m[satir,sutun]"
   ]
  },
  {
   "cell_type": "code",
   "execution_count": 10,
   "id": "6bd4c7f3-a35b-497e-864c-be165aa968b2",
   "metadata": {
    "tags": []
   },
   "outputs": [],
   "source": [
    "#basit islem ile fancy"
   ]
  },
  {
   "cell_type": "code",
   "execution_count": 11,
   "id": "d5e6a7ca-bbd5-45e3-9017-35a1fe28264a",
   "metadata": {
    "tags": []
   },
   "outputs": [
    {
     "data": {
      "text/plain": [
       "array([[ 0,  1,  2,  3],\n",
       "       [ 4,  5,  6,  7],\n",
       "       [ 8,  9, 10, 11],\n",
       "       [12, 13, 14, 15]])"
      ]
     },
     "execution_count": 11,
     "metadata": {},
     "output_type": "execute_result"
    }
   ],
   "source": [
    "m"
   ]
  },
  {
   "cell_type": "code",
   "execution_count": 13,
   "id": "90aae4a2-dadd-46ab-93e6-7a46bb54c634",
   "metadata": {
    "tags": []
   },
   "outputs": [
    {
     "data": {
      "text/plain": [
       "array([5, 6])"
      ]
     },
     "execution_count": 13,
     "metadata": {},
     "output_type": "execute_result"
    }
   ],
   "source": [
    "m[1,[1,2]]"
   ]
  },
  {
   "cell_type": "code",
   "execution_count": 14,
   "id": "652adcbf-1c31-442b-b1bd-d0b2e194a2d5",
   "metadata": {
    "tags": []
   },
   "outputs": [],
   "source": [
    "#slice ile fancy"
   ]
  },
  {
   "cell_type": "code",
   "execution_count": 15,
   "id": "8ecd0b32-1825-495b-a725-f01fe60af1de",
   "metadata": {
    "tags": []
   },
   "outputs": [
    {
     "data": {
      "text/plain": [
       "array([[ 1,  2],\n",
       "       [ 5,  6],\n",
       "       [ 9, 10],\n",
       "       [13, 14]])"
      ]
     },
     "execution_count": 15,
     "metadata": {},
     "output_type": "execute_result"
    }
   ],
   "source": [
    "m[0:,[1,2]]"
   ]
  },
  {
   "cell_type": "code",
   "execution_count": null,
   "id": "55145f98-6398-402b-95d3-5d0f8350e8da",
   "metadata": {},
   "outputs": [],
   "source": []
  }
 ],
 "metadata": {
  "kernelspec": {
   "display_name": "Python 3 (ipykernel)",
   "language": "python",
   "name": "python3"
  },
  "language_info": {
   "codemirror_mode": {
    "name": "ipython",
    "version": 3
   },
   "file_extension": ".py",
   "mimetype": "text/x-python",
   "name": "python",
   "nbconvert_exporter": "python",
   "pygments_lexer": "ipython3",
   "version": "3.11.5"
  }
 },
 "nbformat": 4,
 "nbformat_minor": 5
}
