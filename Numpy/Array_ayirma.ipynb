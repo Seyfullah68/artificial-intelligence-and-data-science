{
 "cells": [
  {
   "cell_type": "markdown",
   "id": "f3566d07-fade-49f2-a367-e94e4e41e5ce",
   "metadata": {},
   "source": [
    "# array ayirma(splitting)"
   ]
  },
  {
   "cell_type": "code",
   "execution_count": 3,
   "id": "ae3b6e7f-ac33-4511-b29d-06e1056e3e23",
   "metadata": {
    "tags": []
   },
   "outputs": [],
   "source": [
    "import numpy as np"
   ]
  },
  {
   "cell_type": "code",
   "execution_count": 4,
   "id": "0d226a28-8902-474f-a01f-fde2d60a6626",
   "metadata": {
    "tags": []
   },
   "outputs": [],
   "source": [
    "x= np.array([1,2,3,99,99,3,2,1])"
   ]
  },
  {
   "cell_type": "code",
   "execution_count": 6,
   "id": "95716d1b-f643-49e8-aab1-0e7852359da8",
   "metadata": {
    "tags": []
   },
   "outputs": [],
   "source": [
    "a,b,c=np.split(x,[3,5])\n",
    "#3 uncu ve 5 inci elemana kadar ayir"
   ]
  },
  {
   "cell_type": "code",
   "execution_count": 7,
   "id": "9a9e92b9-33c7-47de-940c-8f37b7ac2e87",
   "metadata": {
    "tags": []
   },
   "outputs": [
    {
     "data": {
      "text/plain": [
       "array([1, 2, 3])"
      ]
     },
     "execution_count": 7,
     "metadata": {},
     "output_type": "execute_result"
    }
   ],
   "source": [
    "a"
   ]
  },
  {
   "cell_type": "code",
   "execution_count": 8,
   "id": "dd19e7f7-29e6-4b4a-9c5b-9fcb814a7809",
   "metadata": {
    "tags": []
   },
   "outputs": [
    {
     "data": {
      "text/plain": [
       "array([99, 99])"
      ]
     },
     "execution_count": 8,
     "metadata": {},
     "output_type": "execute_result"
    }
   ],
   "source": [
    "b"
   ]
  },
  {
   "cell_type": "code",
   "execution_count": 9,
   "id": "5ec2c5d8-04a1-437a-9dcc-db4567e3e106",
   "metadata": {
    "tags": []
   },
   "outputs": [
    {
     "data": {
      "text/plain": [
       "array([3, 2, 1])"
      ]
     },
     "execution_count": 9,
     "metadata": {},
     "output_type": "execute_result"
    }
   ],
   "source": [
    "c"
   ]
  },
  {
   "cell_type": "code",
   "execution_count": 10,
   "id": "5100fe48-ecfc-4a3a-a540-78e7da052e9b",
   "metadata": {
    "tags": []
   },
   "outputs": [],
   "source": [
    "# iki boyutta"
   ]
  },
  {
   "cell_type": "code",
   "execution_count": null,
   "id": "b3d78787-68cb-4e55-b4c3-eeeb2cbf97d7",
   "metadata": {},
   "outputs": [],
   "source": [
    "#yatay"
   ]
  },
  {
   "cell_type": "code",
   "execution_count": 23,
   "id": "ce140aca-7c62-445d-acbe-9a5b96f9d170",
   "metadata": {
    "tags": []
   },
   "outputs": [
    {
     "data": {
      "text/plain": [
       "array([[ 0,  2,  4,  6],\n",
       "       [ 8, 10, 12, 14],\n",
       "       [16, 18, 20, 22],\n",
       "       [24, 26, 28, 30]])"
      ]
     },
     "execution_count": 23,
     "metadata": {},
     "output_type": "execute_result"
    }
   ],
   "source": [
    "y=np.arange(0,32,2).reshape(4,4)\n",
    "y"
   ]
  },
  {
   "cell_type": "code",
   "execution_count": 24,
   "id": "8e32b0c2-1c59-4ad2-8025-92ce1f1f0727",
   "metadata": {
    "tags": []
   },
   "outputs": [],
   "source": [
    "ust,alt=np.vsplit(y,2)"
   ]
  },
  {
   "cell_type": "code",
   "execution_count": 25,
   "id": "350a54a6-a762-4169-84c2-9bbe9f0f20e9",
   "metadata": {
    "tags": []
   },
   "outputs": [
    {
     "data": {
      "text/plain": [
       "array([[ 0,  2,  4,  6],\n",
       "       [ 8, 10, 12, 14]])"
      ]
     },
     "execution_count": 25,
     "metadata": {},
     "output_type": "execute_result"
    }
   ],
   "source": [
    "ust"
   ]
  },
  {
   "cell_type": "code",
   "execution_count": 26,
   "id": "f7ea84c9-003f-44b3-9de7-ff522adea79a",
   "metadata": {
    "tags": []
   },
   "outputs": [
    {
     "data": {
      "text/plain": [
       "array([[16, 18, 20, 22],\n",
       "       [24, 26, 28, 30]])"
      ]
     },
     "execution_count": 26,
     "metadata": {},
     "output_type": "execute_result"
    }
   ],
   "source": [
    "alt"
   ]
  },
  {
   "cell_type": "code",
   "execution_count": 27,
   "id": "a10be1f5-7085-4364-86c1-90cebe634fc2",
   "metadata": {
    "tags": []
   },
   "outputs": [],
   "source": [
    "#dikey"
   ]
  },
  {
   "cell_type": "code",
   "execution_count": 28,
   "id": "bbe898b7-6788-4a11-84f3-0669b25b62ff",
   "metadata": {
    "tags": []
   },
   "outputs": [
    {
     "data": {
      "text/plain": [
       "array([[ 0,  2,  4,  6],\n",
       "       [ 8, 10, 12, 14],\n",
       "       [16, 18, 20, 22],\n",
       "       [24, 26, 28, 30]])"
      ]
     },
     "execution_count": 28,
     "metadata": {},
     "output_type": "execute_result"
    }
   ],
   "source": [
    "y"
   ]
  },
  {
   "cell_type": "code",
   "execution_count": 29,
   "id": "7b204fa4-7382-421b-bd15-fc9822bc4b50",
   "metadata": {
    "tags": []
   },
   "outputs": [],
   "source": [
    "sol,sag=np.hsplit(y,2)"
   ]
  },
  {
   "cell_type": "code",
   "execution_count": 30,
   "id": "8116358c-351e-413e-8d94-8877e1ae0a3f",
   "metadata": {
    "tags": []
   },
   "outputs": [
    {
     "data": {
      "text/plain": [
       "array([[ 0,  2],\n",
       "       [ 8, 10],\n",
       "       [16, 18],\n",
       "       [24, 26]])"
      ]
     },
     "execution_count": 30,
     "metadata": {},
     "output_type": "execute_result"
    }
   ],
   "source": [
    "sol"
   ]
  },
  {
   "cell_type": "code",
   "execution_count": 31,
   "id": "17e4f342-9e37-4055-a480-fd2757916711",
   "metadata": {
    "tags": []
   },
   "outputs": [
    {
     "data": {
      "text/plain": [
       "array([[ 4,  6],\n",
       "       [12, 14],\n",
       "       [20, 22],\n",
       "       [28, 30]])"
      ]
     },
     "execution_count": 31,
     "metadata": {},
     "output_type": "execute_result"
    }
   ],
   "source": [
    "sag"
   ]
  }
 ],
 "metadata": {
  "kernelspec": {
   "display_name": "Python 3 (ipykernel)",
   "language": "python",
   "name": "python3"
  },
  "language_info": {
   "codemirror_mode": {
    "name": "ipython",
    "version": 3
   },
   "file_extension": ".py",
   "mimetype": "text/x-python",
   "name": "python",
   "nbconvert_exporter": "python",
   "pygments_lexer": "ipython3",
   "version": "3.11.5"
  }
 },
 "nbformat": 4,
 "nbformat_minor": 5
}
