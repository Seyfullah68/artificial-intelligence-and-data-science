{
 "cells": [
  {
   "cell_type": "markdown",
   "id": "e006ddf9-66a6-442c-930d-a7410a91ca21",
   "metadata": {},
   "source": [
    "#Neden NumPy"
   ]
  },
  {
   "cell_type": "markdown",
   "id": "b623c2ef-2930-4cd1-9427-5c6dedee56e8",
   "metadata": {},
   "source": [
    "##cunkuuu:"
   ]
  },
  {
   "cell_type": "code",
   "execution_count": 8,
   "id": "6cbb33af-9e08-4ee6-9f80-f2f12ea1a307",
   "metadata": {
    "tags": []
   },
   "outputs": [],
   "source": [
    "a=[1,2,3,4]\n",
    "b=[2,3,4,5]"
   ]
  },
  {
   "cell_type": "code",
   "execution_count": 10,
   "id": "2ce7e7b9-1c61-4863-a576-9f5e8fb0de36",
   "metadata": {
    "tags": []
   },
   "outputs": [
    {
     "data": {
      "text/plain": [
       "[2, 6, 12, 20]"
      ]
     },
     "execution_count": 10,
     "metadata": {},
     "output_type": "execute_result"
    }
   ],
   "source": [
    "ab=[]\n",
    "for i in range(0,len(a)):\n",
    "    ab.append(a[i]*b[i])\n",
    "\n",
    "\n",
    "ab\n",
    "\n",
    "    "
   ]
  },
  {
   "cell_type": "code",
   "execution_count": 11,
   "id": "dc41c1a5-ae73-4d1d-adc1-bac02a7c636a",
   "metadata": {
    "tags": []
   },
   "outputs": [
    {
     "data": {
      "text/plain": [
       "array([ 2,  6, 12, 20])"
      ]
     },
     "execution_count": 11,
     "metadata": {},
     "output_type": "execute_result"
    }
   ],
   "source": [
    "import numpy as np\n",
    "\n",
    "a=np.array([1,2,3,4])\n",
    "b=np.array([2,3,4,5])\n",
    "\n",
    "a*b"
   ]
  },
  {
   "cell_type": "code",
   "execution_count": null,
   "id": "6cdfb928-d95a-40b0-8be8-1ab77821eda6",
   "metadata": {},
   "outputs": [],
   "source": []
  }
 ],
 "metadata": {
  "kernelspec": {
   "display_name": "Python 3 (ipykernel)",
   "language": "python",
   "name": "python3"
  },
  "language_info": {
   "codemirror_mode": {
    "name": "ipython",
    "version": 3
   },
   "file_extension": ".py",
   "mimetype": "text/x-python",
   "name": "python",
   "nbconvert_exporter": "python",
   "pygments_lexer": "ipython3",
   "version": "3.11.5"
  }
 },
 "nbformat": 4,
 "nbformat_minor": 5
}
